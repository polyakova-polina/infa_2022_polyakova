{
  "nbformat": 4,
  "nbformat_minor": 0,
  "metadata": {
    "colab": {
      "provenance": [],
      "authorship_tag": "ABX9TyP9QKC3+/YriLit7cgYpOoJ",
      "include_colab_link": true
    },
    "kernelspec": {
      "name": "python3",
      "display_name": "Python 3"
    },
    "language_info": {
      "name": "python"
    }
  },
  "cells": [
    {
      "cell_type": "markdown",
      "metadata": {
        "id": "view-in-github",
        "colab_type": "text"
      },
      "source": [
        "<a href=\"https://colab.research.google.com/github/polyakova-polina/infa_2022_polyakova/blob/main/Untitled1.ipynb\" target=\"_parent\"><img src=\"https://colab.research.google.com/assets/colab-badge.svg\" alt=\"Open In Colab\"/></a>"
      ]
    },
    {
      "cell_type": "code",
      "source": [
        "!pip install qiskit\n",
        "import numpy as np"
      ],
      "metadata": {
        "colab": {
          "base_uri": "https://localhost:8080/"
        },
        "id": "INuBr7UWc-qr",
        "outputId": "cd8fe58e-abb6-450e-a036-1204766ef074"
      },
      "execution_count": 2,
      "outputs": [
        {
          "output_type": "stream",
          "name": "stdout",
          "text": [
            "Looking in indexes: https://pypi.org/simple, https://us-python.pkg.dev/colab-wheels/public/simple/\n",
            "Collecting qiskit\n",
            "  Downloading qiskit-0.41.1.tar.gz (14 kB)\n",
            "  Preparing metadata (setup.py) ... \u001b[?25l\u001b[?25hdone\n",
            "Collecting qiskit-terra==0.23.2\n",
            "  Downloading qiskit_terra-0.23.2-cp38-cp38-manylinux_2_17_x86_64.manylinux2014_x86_64.whl (5.1 MB)\n",
            "\u001b[2K     \u001b[90m━━━━━━━━━━━━━━━━━━━━━━━━━━━━━━━━━━━━━━━━\u001b[0m \u001b[32m5.1/5.1 MB\u001b[0m \u001b[31m48.7 MB/s\u001b[0m eta \u001b[36m0:00:00\u001b[0m\n",
            "\u001b[?25hCollecting qiskit-aer==0.11.2\n",
            "  Downloading qiskit_aer-0.11.2-cp38-cp38-manylinux_2_17_x86_64.manylinux2014_x86_64.whl (12.8 MB)\n",
            "\u001b[2K     \u001b[90m━━━━━━━━━━━━━━━━━━━━━━━━━━━━━━━━━━━━━━━━\u001b[0m \u001b[32m12.8/12.8 MB\u001b[0m \u001b[31m49.4 MB/s\u001b[0m eta \u001b[36m0:00:00\u001b[0m\n",
            "\u001b[?25hCollecting qiskit-ibmq-provider==0.20.1\n",
            "  Downloading qiskit_ibmq_provider-0.20.1-py3-none-any.whl (241 kB)\n",
            "\u001b[2K     \u001b[90m━━━━━━━━━━━━━━━━━━━━━━━━━━━━━━━━━━━━━━\u001b[0m \u001b[32m241.3/241.3 KB\u001b[0m \u001b[31m16.7 MB/s\u001b[0m eta \u001b[36m0:00:00\u001b[0m\n",
            "\u001b[?25hRequirement already satisfied: numpy>=1.16.3 in /usr/local/lib/python3.8/dist-packages (from qiskit-aer==0.11.2->qiskit) (1.22.4)\n",
            "Requirement already satisfied: scipy>=1.0 in /usr/local/lib/python3.8/dist-packages (from qiskit-aer==0.11.2->qiskit) (1.7.3)\n",
            "Collecting websockets~=10.0\n",
            "  Downloading websockets-10.4-cp38-cp38-manylinux_2_5_x86_64.manylinux1_x86_64.manylinux_2_17_x86_64.manylinux2014_x86_64.whl (106 kB)\n",
            "\u001b[2K     \u001b[90m━━━━━━━━━━━━━━━━━━━━━━━━━━━━━━━━━━━━━━━\u001b[0m \u001b[32m107.0/107.0 KB\u001b[0m \u001b[31m6.5 MB/s\u001b[0m eta \u001b[36m0:00:00\u001b[0m\n",
            "\u001b[?25hRequirement already satisfied: python-dateutil~=2.8.0 in /usr/local/lib/python3.8/dist-packages (from qiskit-ibmq-provider==0.20.1->qiskit) (2.8.2)\n",
            "Collecting urllib3~=1.26.0\n",
            "  Downloading urllib3-1.26.14-py2.py3-none-any.whl (140 kB)\n",
            "\u001b[2K     \u001b[90m━━━━━━━━━━━━━━━━━━━━━━━━━━━━━━━━━━━━━━\u001b[0m \u001b[32m140.6/140.6 KB\u001b[0m \u001b[31m11.0 MB/s\u001b[0m eta \u001b[36m0:00:00\u001b[0m\n",
            "\u001b[?25hCollecting requests~=2.28.0\n",
            "  Downloading requests-2.28.2-py3-none-any.whl (62 kB)\n",
            "\u001b[2K     \u001b[90m━━━━━━━━━━━━━━━━━━━━━━━━━━━━━━━━━━━━━━━━\u001b[0m \u001b[32m62.8/62.8 KB\u001b[0m \u001b[31m6.0 MB/s\u001b[0m eta \u001b[36m0:00:00\u001b[0m\n",
            "\u001b[?25hCollecting websocket-client~=1.5.1\n",
            "  Downloading websocket_client-1.5.1-py3-none-any.whl (55 kB)\n",
            "\u001b[2K     \u001b[90m━━━━━━━━━━━━━━━━━━━━━━━━━━━━━━━━━━━━━━━━\u001b[0m \u001b[32m55.9/55.9 KB\u001b[0m \u001b[31m7.4 MB/s\u001b[0m eta \u001b[36m0:00:00\u001b[0m\n",
            "\u001b[?25hCollecting requests-ntlm~=1.1.0\n",
            "  Downloading requests_ntlm-1.1.0-py2.py3-none-any.whl (5.7 kB)\n",
            "Collecting rustworkx>=0.12.0\n",
            "  Downloading rustworkx-0.12.1-cp38-cp38-manylinux_2_17_x86_64.manylinux2014_x86_64.whl (1.9 MB)\n",
            "\u001b[2K     \u001b[90m━━━━━━━━━━━━━━━━━━━━━━━━━━━━━━━━━━━━━━━━\u001b[0m \u001b[32m1.9/1.9 MB\u001b[0m \u001b[31m81.0 MB/s\u001b[0m eta \u001b[36m0:00:00\u001b[0m\n",
            "\u001b[?25hCollecting stevedore>=3.0.0\n",
            "  Downloading stevedore-5.0.0-py3-none-any.whl (49 kB)\n",
            "\u001b[2K     \u001b[90m━━━━━━━━━━━━━━━━━━━━━━━━━━━━━━━━━━━━━━━━\u001b[0m \u001b[32m49.6/49.6 KB\u001b[0m \u001b[31m7.2 MB/s\u001b[0m eta \u001b[36m0:00:00\u001b[0m\n",
            "\u001b[?25hRequirement already satisfied: sympy>=1.3 in /usr/local/lib/python3.8/dist-packages (from qiskit-terra==0.23.2->qiskit) (1.7.1)\n",
            "Requirement already satisfied: psutil>=5 in /usr/local/lib/python3.8/dist-packages (from qiskit-terra==0.23.2->qiskit) (5.4.8)\n",
            "Requirement already satisfied: dill>=0.3 in /usr/local/lib/python3.8/dist-packages (from qiskit-terra==0.23.2->qiskit) (0.3.6)\n",
            "Collecting symengine>=0.9\n",
            "  Downloading symengine-0.9.2-cp38-cp38-manylinux2010_x86_64.whl (37.5 MB)\n",
            "\u001b[2K     \u001b[90m━━━━━━━━━━━━━━━━━━━━━━━━━━━━━━━━━━━━━━━━\u001b[0m \u001b[32m37.5/37.5 MB\u001b[0m \u001b[31m14.9 MB/s\u001b[0m eta \u001b[36m0:00:00\u001b[0m\n",
            "\u001b[?25hCollecting ply>=3.10\n",
            "  Downloading ply-3.11-py2.py3-none-any.whl (49 kB)\n",
            "\u001b[2K     \u001b[90m━━━━━━━━━━━━━━━━━━━━━━━━━━━━━━━━━━━━━━━━\u001b[0m \u001b[32m49.6/49.6 KB\u001b[0m \u001b[31m6.6 MB/s\u001b[0m eta \u001b[36m0:00:00\u001b[0m\n",
            "\u001b[?25hRequirement already satisfied: six>=1.5 in /usr/local/lib/python3.8/dist-packages (from python-dateutil~=2.8.0->qiskit-ibmq-provider==0.20.1->qiskit) (1.15.0)\n",
            "Requirement already satisfied: idna<4,>=2.5 in /usr/local/lib/python3.8/dist-packages (from requests~=2.28.0->qiskit-ibmq-provider==0.20.1->qiskit) (2.10)\n",
            "Requirement already satisfied: charset-normalizer<4,>=2 in /usr/local/lib/python3.8/dist-packages (from requests~=2.28.0->qiskit-ibmq-provider==0.20.1->qiskit) (3.0.1)\n",
            "Requirement already satisfied: certifi>=2017.4.17 in /usr/local/lib/python3.8/dist-packages (from requests~=2.28.0->qiskit-ibmq-provider==0.20.1->qiskit) (2022.12.7)\n",
            "Collecting cryptography>=1.3\n",
            "  Downloading cryptography-39.0.1-cp36-abi3-manylinux_2_28_x86_64.whl (4.2 MB)\n",
            "\u001b[2K     \u001b[90m━━━━━━━━━━━━━━━━━━━━━━━━━━━━━━━━━━━━━━━━\u001b[0m \u001b[32m4.2/4.2 MB\u001b[0m \u001b[31m60.8 MB/s\u001b[0m eta \u001b[36m0:00:00\u001b[0m\n",
            "\u001b[?25hCollecting ntlm-auth>=1.0.2\n",
            "  Downloading ntlm_auth-1.5.0-py2.py3-none-any.whl (29 kB)\n",
            "Collecting pbr!=2.1.0,>=2.0.0\n",
            "  Downloading pbr-5.11.1-py2.py3-none-any.whl (112 kB)\n",
            "\u001b[2K     \u001b[90m━━━━━━━━━━━━━━━━━━━━━━━━━━━━━━━━━━━━━━━\u001b[0m \u001b[32m112.7/112.7 KB\u001b[0m \u001b[31m6.7 MB/s\u001b[0m eta \u001b[36m0:00:00\u001b[0m\n",
            "\u001b[?25hRequirement already satisfied: mpmath>=0.19 in /usr/local/lib/python3.8/dist-packages (from sympy>=1.3->qiskit-terra==0.23.2->qiskit) (1.2.1)\n",
            "Requirement already satisfied: cffi>=1.12 in /usr/local/lib/python3.8/dist-packages (from cryptography>=1.3->requests-ntlm~=1.1.0->qiskit-ibmq-provider==0.20.1->qiskit) (1.15.1)\n",
            "Requirement already satisfied: pycparser in /usr/local/lib/python3.8/dist-packages (from cffi>=1.12->cryptography>=1.3->requests-ntlm~=1.1.0->qiskit-ibmq-provider==0.20.1->qiskit) (2.21)\n",
            "Building wheels for collected packages: qiskit\n",
            "  Building wheel for qiskit (setup.py) ... \u001b[?25l\u001b[?25hdone\n",
            "  Created wheel for qiskit: filename=qiskit-0.41.1-py3-none-any.whl size=12918 sha256=06ef5208fbbb0746964549891c93fd1b7d453f1aa29f7cd168390963a8d34539\n",
            "  Stored in directory: /root/.cache/pip/wheels/03/93/d3/9c1ca2a27a41ea528d1cfd431bf5354745239d7a794d2070a6\n",
            "Successfully built qiskit\n",
            "Installing collected packages: ply, websockets, websocket-client, urllib3, symengine, rustworkx, pbr, ntlm-auth, stevedore, requests, cryptography, requests-ntlm, qiskit-terra, qiskit-ibmq-provider, qiskit-aer, qiskit\n",
            "  Attempting uninstall: urllib3\n",
            "    Found existing installation: urllib3 1.24.3\n",
            "    Uninstalling urllib3-1.24.3:\n",
            "      Successfully uninstalled urllib3-1.24.3\n",
            "  Attempting uninstall: requests\n",
            "    Found existing installation: requests 2.25.1\n",
            "    Uninstalling requests-2.25.1:\n",
            "      Successfully uninstalled requests-2.25.1\n",
            "Successfully installed cryptography-39.0.1 ntlm-auth-1.5.0 pbr-5.11.1 ply-3.11 qiskit-0.41.1 qiskit-aer-0.11.2 qiskit-ibmq-provider-0.20.1 qiskit-terra-0.23.2 requests-2.28.2 requests-ntlm-1.1.0 rustworkx-0.12.1 stevedore-5.0.0 symengine-0.9.2 urllib3-1.26.14 websocket-client-1.5.1 websockets-10.4\n"
          ]
        }
      ]
    },
    {
      "cell_type": "code",
      "execution_count": 27,
      "metadata": {
        "id": "XRZaVyIwZmaB"
      },
      "outputs": [],
      "source": [
        "from qiskit import QuantumCircuit, assemble, Aer\n",
        "from qiskit.visualization import plot_histogram\n",
        "import qiskit.tools.jupyter\n"
      ]
    },
    {
      "cell_type": "markdown",
      "source": [
        "Создаем цепь с 8 кубитами и значит 8 выходами. \n",
        "Называем цепь \"qc_output\".\n",
        "Она создается Qiskit при использовании команды QuantumCircuit6 принимающей число кубит как аргумент.\n"
      ],
      "metadata": {
        "id": "rZGymUoRbZ85"
      }
    },
    {
      "cell_type": "code",
      "source": [
        "qc_output = QuantumCircuit(8)"
      ],
      "metadata": {
        "id": "xSy881Y4Zw1B"
      },
      "execution_count": 4,
      "outputs": []
    },
    {
      "cell_type": "markdown",
      "source": [
        "Команда measure_all() заставляет каждый конкретный кубит выдавать определенный выходной бит. \n",
        "С помощью данной команды производится извлечение выходных данных в квантовой схеме:"
      ],
      "metadata": {
        "id": "keos0JJcakve"
      }
    },
    {
      "cell_type": "code",
      "source": [
        "qc_output.measure_all()"
      ],
      "metadata": {
        "id": "PQ8zUvGEZ0Fs"
      },
      "execution_count": 5,
      "outputs": []
    },
    {
      "cell_type": "code",
      "source": [
        "qc_output.draw(initial_state=True)"
      ],
      "metadata": {
        "colab": {
          "base_uri": "https://localhost:8080/",
          "height": 310
        },
        "id": "Ijj-C3XjagUD",
        "outputId": "3d36ac54-717e-44f4-a6d2-ace6e81827ed"
      },
      "execution_count": 6,
      "outputs": [
        {
          "output_type": "execute_result",
          "data": {
            "text/plain": [
              "           ░ ┌─┐                     \n",
              "  q_0: |0>─░─┤M├─────────────────────\n",
              "           ░ └╥┘┌─┐                  \n",
              "  q_1: |0>─░──╫─┤M├──────────────────\n",
              "           ░  ║ └╥┘┌─┐               \n",
              "  q_2: |0>─░──╫──╫─┤M├───────────────\n",
              "           ░  ║  ║ └╥┘┌─┐            \n",
              "  q_3: |0>─░──╫──╫──╫─┤M├────────────\n",
              "           ░  ║  ║  ║ └╥┘┌─┐         \n",
              "  q_4: |0>─░──╫──╫──╫──╫─┤M├─────────\n",
              "           ░  ║  ║  ║  ║ └╥┘┌─┐      \n",
              "  q_5: |0>─░──╫──╫──╫──╫──╫─┤M├──────\n",
              "           ░  ║  ║  ║  ║  ║ └╥┘┌─┐   \n",
              "  q_6: |0>─░──╫──╫──╫──╫──╫──╫─┤M├───\n",
              "           ░  ║  ║  ║  ║  ║  ║ └╥┘┌─┐\n",
              "  q_7: |0>─░──╫──╫──╫──╫──╫──╫──╫─┤M├\n",
              "           ░  ║  ║  ║  ║  ║  ║  ║ └╥┘\n",
              "meas: 0 8/════╩══╩══╩══╩══╩══╩══╩══╩═\n",
              "              0  1  2  3  4  5  6  7 "
            ],
            "text/html": [
              "<pre style=\"word-wrap: normal;white-space: pre;background: #fff0;line-height: 1.1;font-family: &quot;Courier New&quot;,Courier,monospace\">           ░ ┌─┐                     \n",
              "  q_0: |0>─░─┤M├─────────────────────\n",
              "           ░ └╥┘┌─┐                  \n",
              "  q_1: |0>─░──╫─┤M├──────────────────\n",
              "           ░  ║ └╥┘┌─┐               \n",
              "  q_2: |0>─░──╫──╫─┤M├───────────────\n",
              "           ░  ║  ║ └╥┘┌─┐            \n",
              "  q_3: |0>─░──╫──╫──╫─┤M├────────────\n",
              "           ░  ║  ║  ║ └╥┘┌─┐         \n",
              "  q_4: |0>─░──╫──╫──╫──╫─┤M├─────────\n",
              "           ░  ║  ║  ║  ║ └╥┘┌─┐      \n",
              "  q_5: |0>─░──╫──╫──╫──╫──╫─┤M├──────\n",
              "           ░  ║  ║  ║  ║  ║ └╥┘┌─┐   \n",
              "  q_6: |0>─░──╫──╫──╫──╫──╫──╫─┤M├───\n",
              "           ░  ║  ║  ║  ║  ║  ║ └╥┘┌─┐\n",
              "  q_7: |0>─░──╫──╫──╫──╫──╫──╫──╫─┤M├\n",
              "           ░  ║  ║  ║  ║  ║  ║  ║ └╥┘\n",
              "meas: 0 8/════╩══╩══╩══╩══╩══╩══╩══╩═\n",
              "              0  1  2  3  4  5  6  7 </pre>"
            ]
          },
          "metadata": {},
          "execution_count": 6
        }
      ]
    },
    {
      "cell_type": "markdown",
      "source": [
        "Кубиты всегда инициализируются так, чтобы дать выход 0. Поскольку мы ничего не сделали с нашими кубитами в приведенной выше схеме, то при измерениях всегда получаем 0. "
      ],
      "metadata": {
        "id": "DtpQV52Fcpqx"
      }
    },
    {
      "cell_type": "code",
      "source": [
        "sim = Aer.get_backend('aer_simulator') \n",
        "result = sim.run(qc_output).result()\n",
        "counts = result.get_counts()\n",
        "plot_histogram(counts)"
      ],
      "metadata": {
        "colab": {
          "base_uri": "https://localhost:8080/",
          "height": 380
        },
        "id": "W1iAyUqXdUjx",
        "outputId": "f1bc94db-d6d9-430d-c1af-27367c8c3a18"
      },
      "execution_count": 7,
      "outputs": [
        {
          "output_type": "execute_result",
          "data": {
            "text/plain": [
              "<Figure size 504x360 with 1 Axes>"
            ],
            "image/png": "[encoded data removed]"
          },
          "metadata": {},
          "execution_count": 7
        }
      ]
    },
    {
      "cell_type": "markdown",
      "source": [
        "Теперь используем вентиль НЕ. \n",
        "Он просто переворачивает значение бита: 0 становится 1, а 1 становится 0. \n",
        "Для кубитов это операция, называемая x.\n",
        "\n",
        "Ниже мы создаем новую схему, предназначенную для работы с кодированием, и называем ее \"qc_encode\". Пока мы указываем только количество кубитов"
      ],
      "metadata": {
        "id": "pYgqTgCCd6jP"
      }
    },
    {
      "cell_type": "code",
      "source": [
        "qc_encode = QuantumCircuit(8)\n",
        "qc_encode.x(7)\n",
        "qc_encode.draw()"
      ],
      "metadata": {
        "colab": {
          "base_uri": "https://localhost:8080/",
          "height": 279
        },
        "id": "nsl7SA4yeiQB",
        "outputId": "f2e1daee-465a-4b9c-b6a0-7a48ab6289e3"
      },
      "execution_count": 8,
      "outputs": [
        {
          "output_type": "execute_result",
          "data": {
            "text/plain": [
              "          \n",
              "q_0: ─────\n",
              "          \n",
              "q_1: ─────\n",
              "          \n",
              "q_2: ─────\n",
              "          \n",
              "q_3: ─────\n",
              "          \n",
              "q_4: ─────\n",
              "          \n",
              "q_5: ─────\n",
              "          \n",
              "q_6: ─────\n",
              "     ┌───┐\n",
              "q_7: ┤ X ├\n",
              "     └───┘"
            ],
            "text/html": [
              "<pre style=\"word-wrap: normal;white-space: pre;background: #fff0;line-height: 1.1;font-family: &quot;Courier New&quot;,Courier,monospace\">          \n",
              "q_0: ─────\n",
              "          \n",
              "q_1: ─────\n",
              "          \n",
              "q_2: ─────\n",
              "          \n",
              "q_3: ─────\n",
              "          \n",
              "q_4: ─────\n",
              "          \n",
              "q_5: ─────\n",
              "          \n",
              "q_6: ─────\n",
              "     ┌───┐\n",
              "q_7: ┤ X ├\n",
              "     └───┘</pre>"
            ]
          },
          "metadata": {},
          "execution_count": 8
        }
      ]
    },
    {
      "cell_type": "code",
      "source": [
        "qc_encode.measure_all()\n",
        "qc_encode.draw()"
      ],
      "metadata": {
        "colab": {
          "base_uri": "https://localhost:8080/",
          "height": 310
        },
        "id": "mE6AO4Wke8fX",
        "outputId": "78ed7d20-169f-4f55-9496-ebb8f3489d9a"
      },
      "execution_count": 9,
      "outputs": [
        {
          "output_type": "execute_result",
          "data": {
            "text/plain": [
              "              ░ ┌─┐                     \n",
              "   q_0: ──────░─┤M├─────────────────────\n",
              "              ░ └╥┘┌─┐                  \n",
              "   q_1: ──────░──╫─┤M├──────────────────\n",
              "              ░  ║ └╥┘┌─┐               \n",
              "   q_2: ──────░──╫──╫─┤M├───────────────\n",
              "              ░  ║  ║ └╥┘┌─┐            \n",
              "   q_3: ──────░──╫──╫──╫─┤M├────────────\n",
              "              ░  ║  ║  ║ └╥┘┌─┐         \n",
              "   q_4: ──────░──╫──╫──╫──╫─┤M├─────────\n",
              "              ░  ║  ║  ║  ║ └╥┘┌─┐      \n",
              "   q_5: ──────░──╫──╫──╫──╫──╫─┤M├──────\n",
              "              ░  ║  ║  ║  ║  ║ └╥┘┌─┐   \n",
              "   q_6: ──────░──╫──╫──╫──╫──╫──╫─┤M├───\n",
              "        ┌───┐ ░  ║  ║  ║  ║  ║  ║ └╥┘┌─┐\n",
              "   q_7: ┤ X ├─░──╫──╫──╫──╫──╫──╫──╫─┤M├\n",
              "        └───┘ ░  ║  ║  ║  ║  ║  ║  ║ └╥┘\n",
              "meas: 8/═════════╩══╩══╩══╩══╩══╩══╩══╩═\n",
              "                 0  1  2  3  4  5  6  7 "
            ],
            "text/html": [
              "<pre style=\"word-wrap: normal;white-space: pre;background: #fff0;line-height: 1.1;font-family: &quot;Courier New&quot;,Courier,monospace\">              ░ ┌─┐                     \n",
              "   q_0: ──────░─┤M├─────────────────────\n",
              "              ░ └╥┘┌─┐                  \n",
              "   q_1: ──────░──╫─┤M├──────────────────\n",
              "              ░  ║ └╥┘┌─┐               \n",
              "   q_2: ──────░──╫──╫─┤M├───────────────\n",
              "              ░  ║  ║ └╥┘┌─┐            \n",
              "   q_3: ──────░──╫──╫──╫─┤M├────────────\n",
              "              ░  ║  ║  ║ └╥┘┌─┐         \n",
              "   q_4: ──────░──╫──╫──╫──╫─┤M├─────────\n",
              "              ░  ║  ║  ║  ║ └╥┘┌─┐      \n",
              "   q_5: ──────░──╫──╫──╫──╫──╫─┤M├──────\n",
              "              ░  ║  ║  ║  ║  ║ └╥┘┌─┐   \n",
              "   q_6: ──────░──╫──╫──╫──╫──╫──╫─┤M├───\n",
              "        ┌───┐ ░  ║  ║  ║  ║  ║  ║ └╥┘┌─┐\n",
              "   q_7: ┤ X ├─░──╫──╫──╫──╫──╫──╫──╫─┤M├\n",
              "        └───┘ ░  ║  ║  ║  ║  ║  ║  ║ └╥┘\n",
              "meas: 8/═════════╩══╩══╩══╩══╩══╩══╩══╩═\n",
              "                 0  1  2  3  4  5  6  7 </pre>"
            ]
          },
          "metadata": {},
          "execution_count": 9
        }
      ]
    },
    {
      "cell_type": "code",
      "source": [
        "sim = Aer.get_backend('aer_simulator') \n",
        "result = sim.run(qc_encode).result()\n",
        "counts = result.get_counts()\n",
        "plot_histogram(counts)"
      ],
      "metadata": {
        "colab": {
          "base_uri": "https://localhost:8080/",
          "height": 380
        },
        "id": "P-NBc3qrhTCh",
        "outputId": "c8bdeaca-8966-44d6-bd81-23b19f50ce36"
      },
      "execution_count": 10,
      "outputs": [
        {
          "output_type": "execute_result",
          "data": {
            "text/plain": [
              "<Figure size 504x360 with 1 Axes>"
            ],
            "image/png": "[encoded data removed]"
          },
          "metadata": {},
          "execution_count": 10
        }
      ]
    },
    {
      "cell_type": "markdown",
      "source": [
        "Теперь компьютер выводит строку 10000000.\n",
        "\n",
        "Перевернутый бит, происходящий из кубита 7, находится в крайнем левом углу строки. Это связано с тем, что Qiskit нумерует биты в строке справа налево.  В частности, это означает, что кубит 7 говорит нам о том, сколько 2^7 у нас есть в нашем числе. Итак, перевернув этот бит, мы записали число 128\n",
        " в нашем простом 8-битном компьютере"
      ],
      "metadata": {
        "id": "sdoH7V3hhp9K"
      }
    },
    {
      "cell_type": "code",
      "source": [
        "qc_encode = QuantumCircuit(8)\n",
        "qc_encode.x(1)\n",
        "qc_encode.x(5)\n",
        "\n",
        "qc_encode.draw()"
      ],
      "metadata": {
        "colab": {
          "base_uri": "https://localhost:8080/",
          "height": 279
        },
        "id": "2nyk8QXohDUN",
        "outputId": "ee255a76-5f4d-4141-bcfa-21396f8f0b43"
      },
      "execution_count": 11,
      "outputs": [
        {
          "output_type": "execute_result",
          "data": {
            "text/plain": [
              "          \n",
              "q_0: ─────\n",
              "     ┌───┐\n",
              "q_1: ┤ X ├\n",
              "     └───┘\n",
              "q_2: ─────\n",
              "          \n",
              "q_3: ─────\n",
              "          \n",
              "q_4: ─────\n",
              "     ┌───┐\n",
              "q_5: ┤ X ├\n",
              "     └───┘\n",
              "q_6: ─────\n",
              "          \n",
              "q_7: ─────\n",
              "          "
            ],
            "text/html": [
              "<pre style=\"word-wrap: normal;white-space: pre;background: #fff0;line-height: 1.1;font-family: &quot;Courier New&quot;,Courier,monospace\">          \n",
              "q_0: ─────\n",
              "     ┌───┐\n",
              "q_1: ┤ X ├\n",
              "     └───┘\n",
              "q_2: ─────\n",
              "          \n",
              "q_3: ─────\n",
              "          \n",
              "q_4: ─────\n",
              "     ┌───┐\n",
              "q_5: ┤ X ├\n",
              "     └───┘\n",
              "q_6: ─────\n",
              "          \n",
              "q_7: ─────\n",
              "          </pre>"
            ]
          },
          "metadata": {},
          "execution_count": 11
        }
      ]
    },
    {
      "cell_type": "code",
      "source": [
        "qc_encode.measure_all()\n",
        "qc_encode.draw()"
      ],
      "metadata": {
        "colab": {
          "base_uri": "https://localhost:8080/",
          "height": 310
        },
        "id": "BcEUhm1KhLMW",
        "outputId": "2ea9179b-72c2-4bb0-c93a-59f439336620"
      },
      "execution_count": 12,
      "outputs": [
        {
          "output_type": "execute_result",
          "data": {
            "text/plain": [
              "              ░ ┌─┐                     \n",
              "   q_0: ──────░─┤M├─────────────────────\n",
              "        ┌───┐ ░ └╥┘┌─┐                  \n",
              "   q_1: ┤ X ├─░──╫─┤M├──────────────────\n",
              "        └───┘ ░  ║ └╥┘┌─┐               \n",
              "   q_2: ──────░──╫──╫─┤M├───────────────\n",
              "              ░  ║  ║ └╥┘┌─┐            \n",
              "   q_3: ──────░──╫──╫──╫─┤M├────────────\n",
              "              ░  ║  ║  ║ └╥┘┌─┐         \n",
              "   q_4: ──────░──╫──╫──╫──╫─┤M├─────────\n",
              "        ┌───┐ ░  ║  ║  ║  ║ └╥┘┌─┐      \n",
              "   q_5: ┤ X ├─░──╫──╫──╫──╫──╫─┤M├──────\n",
              "        └───┘ ░  ║  ║  ║  ║  ║ └╥┘┌─┐   \n",
              "   q_6: ──────░──╫──╫──╫──╫──╫──╫─┤M├───\n",
              "              ░  ║  ║  ║  ║  ║  ║ └╥┘┌─┐\n",
              "   q_7: ──────░──╫──╫──╫──╫──╫──╫──╫─┤M├\n",
              "              ░  ║  ║  ║  ║  ║  ║  ║ └╥┘\n",
              "meas: 8/═════════╩══╩══╩══╩══╩══╩══╩══╩═\n",
              "                 0  1  2  3  4  5  6  7 "
            ],
            "text/html": [
              "<pre style=\"word-wrap: normal;white-space: pre;background: #fff0;line-height: 1.1;font-family: &quot;Courier New&quot;,Courier,monospace\">              ░ ┌─┐                     \n",
              "   q_0: ──────░─┤M├─────────────────────\n",
              "        ┌───┐ ░ └╥┘┌─┐                  \n",
              "   q_1: ┤ X ├─░──╫─┤M├──────────────────\n",
              "        └───┘ ░  ║ └╥┘┌─┐               \n",
              "   q_2: ──────░──╫──╫─┤M├───────────────\n",
              "              ░  ║  ║ └╥┘┌─┐            \n",
              "   q_3: ──────░──╫──╫──╫─┤M├────────────\n",
              "              ░  ║  ║  ║ └╥┘┌─┐         \n",
              "   q_4: ──────░──╫──╫──╫──╫─┤M├─────────\n",
              "        ┌───┐ ░  ║  ║  ║  ║ └╥┘┌─┐      \n",
              "   q_5: ┤ X ├─░──╫──╫──╫──╫──╫─┤M├──────\n",
              "        └───┘ ░  ║  ║  ║  ║  ║ └╥┘┌─┐   \n",
              "   q_6: ──────░──╫──╫──╫──╫──╫──╫─┤M├───\n",
              "              ░  ║  ║  ║  ║  ║  ║ └╥┘┌─┐\n",
              "   q_7: ──────░──╫──╫──╫──╫──╫──╫──╫─┤M├\n",
              "              ░  ║  ║  ║  ║  ║  ║  ║ └╥┘\n",
              "meas: 8/═════════╩══╩══╩══╩══╩══╩══╩══╩═\n",
              "                 0  1  2  3  4  5  6  7 </pre>"
            ]
          },
          "metadata": {},
          "execution_count": 12
        }
      ]
    },
    {
      "cell_type": "code",
      "source": [
        "sim = Aer.get_backend('aer_simulator') \n",
        "result = sim.run(qc_encode).result()\n",
        "counts = result.get_counts()\n",
        "plot_histogram(counts)"
      ],
      "metadata": {
        "colab": {
          "base_uri": "https://localhost:8080/",
          "height": 381
        },
        "id": "wrVQjGj6hZj4",
        "outputId": "ddac3af8-89a5-4c11-f3bb-677595e00677"
      },
      "execution_count": 13,
      "outputs": [
        {
          "output_type": "execute_result",
          "data": {
            "text/plain": [
              "<Figure size 504x360 with 1 Axes>"
            ],
            "image/png": "[encoded data removed]"
          },
          "metadata": {},
          "execution_count": 13
        }
      ]
    },
    {
      "cell_type": "code",
      "source": [
        "qc = QuantumCircuit(2,2)\n",
        "qc.x(1)\n",
        "qc.cx(0,1)\n",
        "qc.measure(0,0)\n",
        "qc.measure(1,1)\n",
        "qc.draw()"
      ],
      "metadata": {
        "colab": {
          "base_uri": "https://localhost:8080/",
          "height": 125
        },
        "id": "EsTZ1zhaFTdJ",
        "outputId": "bd7fdbee-6925-4bf5-9ee8-953ceb153205"
      },
      "execution_count": 22,
      "outputs": [
        {
          "output_type": "execute_result",
          "data": {
            "text/plain": [
              "               ┌─┐   \n",
              "q_0: ───────■──┤M├───\n",
              "     ┌───┐┌─┴─┐└╥┘┌─┐\n",
              "q_1: ┤ X ├┤ X ├─╫─┤M├\n",
              "     └───┘└───┘ ║ └╥┘\n",
              "c: 2/═══════════╩══╩═\n",
              "                0  1 "
            ],
            "text/html": [
              "<pre style=\"word-wrap: normal;white-space: pre;background: #fff0;line-height: 1.1;font-family: &quot;Courier New&quot;,Courier,monospace\">               ┌─┐   \n",
              "q_0: ───────■──┤M├───\n",
              "     ┌───┐┌─┴─┐└╥┘┌─┐\n",
              "q_1: ┤ X ├┤ X ├─╫─┤M├\n",
              "     └───┘└───┘ ║ └╥┘\n",
              "c: 2/═══════════╩══╩═\n",
              "                0  1 </pre>"
            ]
          },
          "metadata": {},
          "execution_count": 22
        }
      ]
    },
    {
      "cell_type": "code",
      "source": [
        "sim = Aer.get_backend('aer_simulator') \n",
        "result = sim.run(qc).result()\n",
        "counts = result.get_counts()\n",
        "plot_histogram(counts)"
      ],
      "metadata": {
        "colab": {
          "base_uri": "https://localhost:8080/",
          "height": 331
        },
        "id": "48w-iMdJHmwd",
        "outputId": "0ea678b5-6e95-4ff8-f997-81e89fecb2d4"
      },
      "execution_count": 23,
      "outputs": [
        {
          "output_type": "execute_result",
          "data": {
            "text/plain": [
              "<Figure size 504x360 with 1 Axes>"
            ],
            "image/png": "[encoded data removed]"
          },
          "metadata": {},
          "execution_count": 23
        }
      ]
    },
    {
      "cell_type": "code",
      "source": [
        "qc_ha = QuantumCircuit(4,2)\n",
        "# encode inputs in qubits 0 and 1\n",
        "qc_ha.x(0) # For a=0, remove the this line. For a=1, leave it.\n",
        "qc_ha.x(1) # For b=0, remove the this line. For b=1, leave it.\n",
        "qc_ha.barrier()\n",
        "# use cnots to write the XOR of the inputs on qubit 2\n",
        "qc_ha.cx(0,2)\n",
        "qc_ha.cx(1,2)\n",
        "# use ccx to write the AND of the inputs on qubit 3\n",
        "qc_ha.ccx(0,1,3)\n",
        "qc_ha.barrier()\n",
        "# extract outputs\n",
        "qc_ha.measure(2,0) # extract XOR value\n",
        "qc_ha.measure(3,1) # extract AND value\n",
        "\n",
        "qc_ha.draw()"
      ],
      "metadata": {
        "colab": {
          "base_uri": "https://localhost:8080/",
          "height": 186
        },
        "id": "sOKvJv9eLN55",
        "outputId": "7acc18b4-3a59-4310-af4a-cff5991998e9"
      },
      "execution_count": 24,
      "outputs": [
        {
          "output_type": "execute_result",
          "data": {
            "text/plain": [
              "     ┌───┐ ░                 ░       \n",
              "q_0: ┤ X ├─░───■─────────■───░───────\n",
              "     ├───┤ ░   │         │   ░       \n",
              "q_1: ┤ X ├─░───┼────■────■───░───────\n",
              "     └───┘ ░ ┌─┴─┐┌─┴─┐  │   ░ ┌─┐   \n",
              "q_2: ──────░─┤ X ├┤ X ├──┼───░─┤M├───\n",
              "           ░ └───┘└───┘┌─┴─┐ ░ └╥┘┌─┐\n",
              "q_3: ──────░───────────┤ X ├─░──╫─┤M├\n",
              "           ░           └───┘ ░  ║ └╥┘\n",
              "c: 2/═══════════════════════════╩══╩═\n",
              "                                0  1 "
            ],
            "text/html": [
              "<pre style=\"word-wrap: normal;white-space: pre;background: #fff0;line-height: 1.1;font-family: &quot;Courier New&quot;,Courier,monospace\">     ┌───┐ ░                 ░       \n",
              "q_0: ┤ X ├─░───■─────────■───░───────\n",
              "     ├───┤ ░   │         │   ░       \n",
              "q_1: ┤ X ├─░───┼────■────■───░───────\n",
              "     └───┘ ░ ┌─┴─┐┌─┴─┐  │   ░ ┌─┐   \n",
              "q_2: ──────░─┤ X ├┤ X ├──┼───░─┤M├───\n",
              "           ░ └───┘└───┘┌─┴─┐ ░ └╥┘┌─┐\n",
              "q_3: ──────░───────────┤ X ├─░──╫─┤M├\n",
              "           ░           └───┘ ░  ║ └╥┘\n",
              "c: 2/═══════════════════════════╩══╩═\n",
              "                                0  1 </pre>"
            ]
          },
          "metadata": {},
          "execution_count": 24
        }
      ]
    },
    {
      "cell_type": "code",
      "source": [
        "qobj = assemble(qc_ha)\n",
        "counts = sim.run(qobj).result().get_counts()\n",
        "plot_histogram(counts)"
      ],
      "metadata": {
        "colab": {
          "base_uri": "https://localhost:8080/",
          "height": 331
        },
        "id": "hTeS9eVULT4J",
        "outputId": "bf5334b9-e72a-4fc5-96fd-7b28eebbb673"
      },
      "execution_count": 25,
      "outputs": [
        {
          "output_type": "execute_result",
          "data": {
            "text/plain": [
              "<Figure size 504x360 with 1 Axes>"
            ],
            "image/png": "[encoded data removed]"
          },
          "metadata": {},
          "execution_count": 25
        }
      ]
    },
    {
      "cell_type": "markdown",
      "source": [],
      "metadata": {
        "id": "Yedwiy4mbHLl"
      }
    }
  ]
}